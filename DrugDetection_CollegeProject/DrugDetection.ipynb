{
 "cells": [
  {
   "cell_type": "markdown",
   "metadata": {},
   "source": [
    "# **<span style='color:Yellow'>Getting Data into format </span>**"
   ]
  },
  {
   "cell_type": "code",
   "execution_count": 11,
   "metadata": {},
   "outputs": [
    {
     "data": {
      "text/html": [
       "<div>\n",
       "<style scoped>\n",
       "    .dataframe tbody tr th:only-of-type {\n",
       "        vertical-align: middle;\n",
       "    }\n",
       "\n",
       "    .dataframe tbody tr th {\n",
       "        vertical-align: top;\n",
       "    }\n",
       "\n",
       "    .dataframe thead th {\n",
       "        text-align: right;\n",
       "    }\n",
       "</style>\n",
       "<table border=\"1\" class=\"dataframe\">\n",
       "  <thead>\n",
       "    <tr style=\"text-align: right;\">\n",
       "      <th></th>\n",
       "      <th>Post ID</th>\n",
       "      <th>User ID</th>\n",
       "      <th>Post Text</th>\n",
       "      <th>Account Creation Date</th>\n",
       "      <th>IP Address</th>\n",
       "      <th>Location</th>\n",
       "      <th>Post Date/Time</th>\n",
       "      <th>Label</th>\n",
       "    </tr>\n",
       "  </thead>\n",
       "  <tbody>\n",
       "    <tr>\n",
       "      <th>0</th>\n",
       "      <td>0</td>\n",
       "      <td>d5d1ef80-2e4b-407f-bd3d-af625c8a0903</td>\n",
       "      <td>Selling weed in bulk</td>\n",
       "      <td>2022-02-06</td>\n",
       "      <td>192.168.223.231</td>\n",
       "      <td>Unknown</td>\n",
       "      <td>2024-01-08 09:38:51</td>\n",
       "      <td>1</td>\n",
       "    </tr>\n",
       "    <tr>\n",
       "      <th>1</th>\n",
       "      <td>1</td>\n",
       "      <td>d79385db-a2c9-44fb-b78b-5084af18235d</td>\n",
       "      <td>Chillin' with friends!</td>\n",
       "      <td>2023-06-28</td>\n",
       "      <td>10.147.91.174</td>\n",
       "      <td>Unknown</td>\n",
       "      <td>2024-05-10 22:56:53</td>\n",
       "      <td>0</td>\n",
       "    </tr>\n",
       "    <tr>\n",
       "      <th>2</th>\n",
       "      <td>2</td>\n",
       "      <td>642dc020-9dce-4662-92c8-71e72d67fd8f</td>\n",
       "      <td>Got some weed?</td>\n",
       "      <td>2021-08-25</td>\n",
       "      <td>172.30.143.35</td>\n",
       "      <td>Wongfort</td>\n",
       "      <td>2024-03-10 04:15:36</td>\n",
       "      <td>1</td>\n",
       "    </tr>\n",
       "    <tr>\n",
       "      <th>3</th>\n",
       "      <td>3</td>\n",
       "      <td>96058e51-2841-4f8e-89bc-b25845e06012</td>\n",
       "      <td>Pure MDMA available</td>\n",
       "      <td>2020-12-05</td>\n",
       "      <td>171.125.141.105</td>\n",
       "      <td>Chapmanville</td>\n",
       "      <td>2024-06-08 05:20:45</td>\n",
       "      <td>1</td>\n",
       "    </tr>\n",
       "    <tr>\n",
       "      <th>4</th>\n",
       "      <td>4</td>\n",
       "      <td>ba172d71-59b8-441d-ac81-8d964f7fcd0f</td>\n",
       "      <td>Selling CBD oil</td>\n",
       "      <td>2020-12-30</td>\n",
       "      <td>142.96.54.234</td>\n",
       "      <td>East Jeremy</td>\n",
       "      <td>2024-03-22 23:09:17</td>\n",
       "      <td>1</td>\n",
       "    </tr>\n",
       "  </tbody>\n",
       "</table>\n",
       "</div>"
      ],
      "text/plain": [
       "   Post ID                               User ID               Post Text  \\\n",
       "0        0  d5d1ef80-2e4b-407f-bd3d-af625c8a0903    Selling weed in bulk   \n",
       "1        1  d79385db-a2c9-44fb-b78b-5084af18235d  Chillin' with friends!   \n",
       "2        2  642dc020-9dce-4662-92c8-71e72d67fd8f          Got some weed?   \n",
       "3        3  96058e51-2841-4f8e-89bc-b25845e06012     Pure MDMA available   \n",
       "4        4  ba172d71-59b8-441d-ac81-8d964f7fcd0f         Selling CBD oil   \n",
       "\n",
       "  Account Creation Date       IP Address      Location      Post Date/Time  \\\n",
       "0            2022-02-06  192.168.223.231       Unknown 2024-01-08 09:38:51   \n",
       "1            2023-06-28    10.147.91.174       Unknown 2024-05-10 22:56:53   \n",
       "2            2021-08-25    172.30.143.35      Wongfort 2024-03-10 04:15:36   \n",
       "3            2020-12-05  171.125.141.105  Chapmanville 2024-06-08 05:20:45   \n",
       "4            2020-12-30    142.96.54.234   East Jeremy 2024-03-22 23:09:17   \n",
       "\n",
       "   Label  \n",
       "0      1  \n",
       "1      0  \n",
       "2      1  \n",
       "3      1  \n",
       "4      1  "
      ]
     },
     "execution_count": 11,
     "metadata": {},
     "output_type": "execute_result"
    }
   ],
   "source": [
    "import pandas as pd\n",
    "import random\n",
    "import re\n",
    "from faker import Faker\n",
    "\n",
    "fake = Faker()\n",
    "\n",
    "# A large variety of dummy posts with clean and suspicious content\n",
    "posts = [\n",
    "    \"Looking to score some 420?\", \"Got some weed?\", \"Life is amazing!\", \"Selling pure MDMA!\",\n",
    "    \"Hit me up for some herbs!\", \"Anyone need Xanax?\", \"Just chilling at home\", \n",
    "    \"Contact me for top-notch products!\", \"Fresh herbs available\", \"I have a variety of pills for sale\",\n",
    "    \"Feeling great today!\", \"CBD oils in stock\", \"Let's party with some molly!\", \"Buy legal herbs\",\n",
    "    \"Feeling amazing!\", \"Need some painkillers?\", \"2 pills ready for delivery\", \n",
    "    \"Chillin' with friends!\", \"Selling weed in bulk\", \"Holla at me for the goods!\", \n",
    "    \"Grab some pills from me\", \"I'm the plug for 420\", \"Order your goodies now!\", \n",
    "    \"Pure MDMA available\", \"Get your hands on some Xanax!\", \"Happy vibes only\", \n",
    "    \"Medicinal herbs on sale\", \"Hook me up with some CBD\", \"Feeling the high!\", \"Need some Molly?\", \n",
    "    \"Best deals on party pills\", \"Hit me up for the stash\", \"Stocking up on legal weed!\", \n",
    "    \"Available for quick delivery\", \"Let's roll with some ecstasy\", \"Anyone need party stuff?\", \n",
    "    \"Legal CBD products in stock\", \"Herbs for sale, DM for prices\", \"Good times ahead!\", \n",
    "    \"Hit me up for premium products\", \"2 pills left!\", \"Order 420 now\", \n",
    "    \"Feel the vibe with these pills\", \"Best prices for medicinal herbs\", \"Selling CBD oil\", \n",
    "    \"Best place to get your stash!\", \"420 delivery in 30 mins\", \"Top quality ecstasy available!\", \n",
    "    \"Best deal on CBD oils\", \"Buy some pills, message me\", \"Enjoy your day with 420!\", \n",
    "    \"Hit me up for MDMA!\", \"Selling weed at low prices\", \"Need Xanax for the weekend?\", \n",
    "    \"Chillin' with 420!\", \"Best deals on herbs\", \"Molly available in bulk\", \"Contact for good prices!\"\n",
    "]\n",
    "\n",
    "# Function to generate random IPs (VPN or real)\n",
    "def generate_ip(vpn=False):\n",
    "    if vpn:\n",
    "        return fake.ipv4_private()\n",
    "    else:\n",
    "        return fake.ipv4_public()\n",
    "\n",
    "# Generate a larger dummy dataset\n",
    "data = []\n",
    "for i in range(1000):  # Creating 1000 posts\n",
    "    post = random.choice(posts)\n",
    "    user_id = fake.uuid4()\n",
    "    account_creation_date = fake.date_this_decade()\n",
    "    ip_address = generate_ip(vpn=random.choice([True, False]))  # 50% chance of VPN\n",
    "    location = fake.city() if not re.match(r'10\\.\\d+\\.\\d+\\.\\d+|192\\.\\d+\\.\\d+\\.\\d+', ip_address) else \"Unknown\"\n",
    "    post_datetime = fake.date_time_this_year()\n",
    "    label = 1 if re.search(r'weed|pills|herbs|mdma|420|xanax|molly|ecstasy|cbd', post, re.I) else 0\n",
    "    \n",
    "    data.append([i, user_id, post, account_creation_date, ip_address, location, post_datetime, label])\n",
    "\n",
    "# Create a DataFrame\n",
    "df = pd.DataFrame(data, columns=[\"Post ID\", \"User ID\", \"Post Text\", \"Account Creation Date\", \"IP Address\", \"Location\", \"Post Date/Time\", \"Label\"])\n",
    "\n",
    "df.head()  # Show the first few rows\n"
   ]
  },
  {
   "cell_type": "markdown",
   "metadata": {},
   "source": [
    "# **<span style='color:Yellow'>Cleaning the Data </span>**"
   ]
  },
  {
   "cell_type": "code",
   "execution_count": 12,
   "metadata": {},
   "outputs": [
    {
     "data": {
      "text/plain": [
       "Post ID                    0\n",
       "User ID                    0\n",
       "Post Text                  0\n",
       "Account Creation Date      0\n",
       "IP Address                 0\n",
       "Location                 350\n",
       "Post Date/Time             0\n",
       "Label                      0\n",
       "Cleaned Post Text          0\n",
       "dtype: int64"
      ]
     },
     "execution_count": 12,
     "metadata": {},
     "output_type": "execute_result"
    }
   ],
   "source": [
    "import string\n",
    "\n",
    "# Cleaning text data\n",
    "def clean_text(text):\n",
    "    text = text.lower()  # Lowercase all text\n",
    "    text = re.sub(r'\\d+', '', text)  # Remove numbers\n",
    "    text = text.translate(str.maketrans('', '', string.punctuation))  # Remove punctuation\n",
    "    return text\n",
    "\n",
    "df['Cleaned Post Text'] = df['Post Text'].apply(clean_text)\n",
    "\n",
    "# Handling missing locations for VPN users\n",
    "df['Location'] = df['Location'].replace('Unknown', np.nan)\n",
    "\n",
    "# Convert dates to pandas datetime\n",
    "df['Account Creation Date'] = pd.to_datetime(df['Account Creation Date'])\n",
    "df['Post Date/Time'] = pd.to_datetime(df['Post Date/Time'])\n",
    "\n",
    "# Check for missing or null values\n",
    "df.isnull().sum()\n"
   ]
  },
  {
   "cell_type": "markdown",
   "metadata": {},
   "source": [
    "# **<span style='color:Yellow'>Feature Engineering </span>**"
   ]
  },
  {
   "cell_type": "code",
   "execution_count": 13,
   "metadata": {},
   "outputs": [],
   "source": [
    "from sklearn.feature_extraction.text import CountVectorizer\n",
    "\n",
    "# Feature Engineering: Vectorize text data\n",
    "vectorizer = CountVectorizer(stop_words='english', max_features=1000)  # Limit to top 1000 words\n",
    "X_text = vectorizer.fit_transform(df['Cleaned Post Text'])\n",
    "\n",
    "# Adding IP address length as a feature (proxy for VPN vs. real IP)\n",
    "df['IP Length'] = df['IP Address'].apply(lambda x: len(x))\n",
    "\n",
    "# Create feature matrix (combining text features + other features)\n",
    "X = pd.concat([pd.DataFrame(X_text.toarray()), df[['IP Length']]], axis=1)\n",
    "y = df['Label']  # Target variable\n",
    "\n",
    "# Convert column names to strings\n",
    "X.columns = X.columns.astype(str)"
   ]
  },
  {
   "cell_type": "markdown",
   "metadata": {},
   "source": [
    "# **<span style='color:Yellow'>Machine Learning Model </span>**"
   ]
  },
  {
   "cell_type": "code",
   "execution_count": 14,
   "metadata": {},
   "outputs": [
    {
     "name": "stdout",
     "output_type": "stream",
     "text": [
      "              precision    recall  f1-score   support\n",
      "\n",
      "           0       1.00      1.00      1.00        75\n",
      "           1       1.00      1.00      1.00       225\n",
      "\n",
      "    accuracy                           1.00       300\n",
      "   macro avg       1.00      1.00      1.00       300\n",
      "weighted avg       1.00      1.00      1.00       300\n",
      "\n"
     ]
    }
   ],
   "source": [
    "from sklearn.model_selection import train_test_split\n",
    "from sklearn.ensemble import RandomForestClassifier\n",
    "from sklearn.metrics import classification_report\n",
    "\n",
    "# Train-Test Split\n",
    "X_train, X_test, y_train, y_test = train_test_split(X, y, test_size=0.3, random_state=42)\n",
    "\n",
    "# Random Forest Model\n",
    "rf = RandomForestClassifier(n_estimators=100, random_state=42)\n",
    "rf.fit(X_train, y_train)\n",
    "\n",
    "# Predictions and Evaluation\n",
    "y_pred = rf.predict(X_test)\n",
    "print(classification_report(y_test, y_pred))\n",
    "\n"
   ]
  },
  {
   "cell_type": "markdown",
   "metadata": {},
   "source": [
    "# **<span style='color:Yellow'>Hyperparameter Tuning</span>**"
   ]
  },
  {
   "cell_type": "code",
   "execution_count": 15,
   "metadata": {},
   "outputs": [
    {
     "name": "stdout",
     "output_type": "stream",
     "text": [
      "Fitting 3 folds for each of 12 candidates, totalling 36 fits\n",
      "{'max_depth': None, 'n_estimators': 50}\n"
     ]
    }
   ],
   "source": [
    "from sklearn.model_selection import GridSearchCV\n",
    "\n",
    "# Define parameter grid\n",
    "param_grid = {\n",
    "    'n_estimators': [50, 100, 200],\n",
    "    'max_depth': [None, 10, 20, 30]\n",
    "}\n",
    "\n",
    "# Grid Search\n",
    "grid_search = GridSearchCV(estimator=rf, param_grid=param_grid, cv=3, n_jobs=-1, verbose=2)\n",
    "grid_search.fit(X_train, y_train)\n",
    "\n",
    "# Best parameters\n",
    "print(grid_search.best_params_)\n"
   ]
  },
  {
   "cell_type": "markdown",
   "metadata": {},
   "source": [
    "# **<span style='color:Yellow'>Model Refinement</span>**"
   ]
  },
  {
   "cell_type": "code",
   "execution_count": 16,
   "metadata": {},
   "outputs": [
    {
     "name": "stdout",
     "output_type": "stream",
     "text": [
      "              precision    recall  f1-score   support\n",
      "\n",
      "           0       1.00      1.00      1.00        75\n",
      "           1       1.00      1.00      1.00       225\n",
      "\n",
      "    accuracy                           1.00       300\n",
      "   macro avg       1.00      1.00      1.00       300\n",
      "weighted avg       1.00      1.00      1.00       300\n",
      "\n"
     ]
    }
   ],
   "source": [
    "# Refining the model with the best parameters\n",
    "best_rf = RandomForestClassifier(**grid_search.best_params_)\n",
    "best_rf.fit(X_train, y_train)\n",
    "\n",
    "# Final evaluation\n",
    "y_pred_final = best_rf.predict(X_test)\n",
    "print(classification_report(y_test, y_pred_final))\n"
   ]
  },
  {
   "cell_type": "markdown",
   "metadata": {},
   "source": [
    "# **<span style='color:Yellow'>Dumping Model For Web Deployment</span>**"
   ]
  },
  {
   "cell_type": "code",
   "execution_count": 17,
   "metadata": {},
   "outputs": [
    {
     "data": {
      "text/plain": [
       "['vectorizer.pkl']"
      ]
     },
     "execution_count": 17,
     "metadata": {},
     "output_type": "execute_result"
    }
   ],
   "source": [
    "# Save the model and vectorizer\n",
    "import joblib \n",
    "joblib.dump(best_rf, 'drug_detection_model.pkl')\n",
    "joblib.dump(vectorizer, 'vectorizer.pkl')\n"
   ]
  }
 ],
 "metadata": {
  "kernelspec": {
   "display_name": "Python 3",
   "language": "python",
   "name": "python3"
  },
  "language_info": {
   "codemirror_mode": {
    "name": "ipython",
    "version": 3
   },
   "file_extension": ".py",
   "mimetype": "text/x-python",
   "name": "python",
   "nbconvert_exporter": "python",
   "pygments_lexer": "ipython3",
   "version": "3.12.4"
  }
 },
 "nbformat": 4,
 "nbformat_minor": 2
}
